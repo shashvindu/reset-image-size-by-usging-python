{
 "cells": [
  {
   "cell_type": "code",
   "execution_count": null,
   "metadata": {},
   "outputs": [],
   "source": [
    "from PIL import Image\n",
    "import os\n",
    "\n",
    "  \n",
    "    directory = os.listdir(source_folder)\n",
    "    \n",
    "    for item in directory:\n",
    "        img = Image.open(source_folder + item)\n",
    "        imgResize = img.resize((new_image_width, new_image_height), Image.ANTIALIAS)\n",
    "        imgResize.save(destination_folder + item[:-4] +'.tif', quality = 90)"
   ]
  },
  {
   "cell_type": "code",
   "execution_count": 26,
   "metadata": {},
   "outputs": [],
   "source": [
    "from PIL import Image\n",
    "import os"
   ]
  },
  {
   "cell_type": "code",
   "execution_count": null,
   "metadata": {},
   "outputs": [],
   "source": []
  },
  {
   "cell_type": "code",
   "execution_count": 27,
   "metadata": {},
   "outputs": [],
   "source": [
    "    source_folder = 'D:/Scheme Images/Scheme Images/'\n",
    "    destination_folder = 'D:/Scheme Images/resize image/'\n",
    "#source_folder = 'path/to/where/your/images/are/located/'\n",
    "#destination_folder = 'path/to/where/you/want/to/save/your/images/after/resizing/'\n",
    "    directory = os.listdir(source_folder)\n"
   ]
  },
  {
   "cell_type": "code",
   "execution_count": 28,
   "metadata": {},
   "outputs": [],
   "source": [
    "   for item in directory:\n",
    "        img = Image.open(source_folder + item)\n",
    "        imgResize = img.resize((2000, 2000), Image.ANTIALIAS)\n",
    "        imgResize.save(destination_folder + item[:-4] +'.png', quality = 120)"
   ]
  },
  {
   "cell_type": "code",
   "execution_count": 29,
   "metadata": {},
   "outputs": [
    {
     "name": "stdout",
     "output_type": "stream",
     "text": [
      "950 500\n"
     ]
    }
   ],
   "source": [
    "image =Image.open(\"Atal-Pension-Yojna1.png\")\n",
    "#image to open\n",
    "\n",
    "width, height = image.size\n",
    "#extract width and height from output tuple\n",
    "\n",
    "print(width, height)"
   ]
  },
  {
   "cell_type": "code",
   "execution_count": 30,
   "metadata": {},
   "outputs": [
    {
     "name": "stdout",
     "output_type": "stream",
     "text": [
      "2000 2000\n"
     ]
    }
   ],
   "source": [
    "image =Image.open(\"Atal-Pension-Yojna.png\")\n",
    "#image to open\n",
    "\n",
    "width, height = image.size\n",
    "#extract width and height from output tuple\n",
    "\n",
    "print(width, height)"
   ]
  }
 ],
 "metadata": {
  "kernelspec": {
   "display_name": "Python 3",
   "language": "python",
   "name": "python3"
  },
  "language_info": {
   "codemirror_mode": {
    "name": "ipython",
    "version": 3
   },
   "file_extension": ".py",
   "mimetype": "text/x-python",
   "name": "python",
   "nbconvert_exporter": "python",
   "pygments_lexer": "ipython3",
   "version": "3.8.3"
  }
 },
 "nbformat": 4,
 "nbformat_minor": 4
}
